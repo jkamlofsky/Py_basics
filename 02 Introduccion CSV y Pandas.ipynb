{
 "cells": [
  {
   "cell_type": "markdown",
   "id": "268ff182",
   "metadata": {},
   "source": [
    "## Introducción a Pandas: Manejo de conjuntos de datos"
   ]
  },
  {
   "cell_type": "markdown",
   "id": "a395e7b5",
   "metadata": {},
   "source": [
    "### Resumen"
   ]
  },
  {
   "cell_type": "markdown",
   "id": "138dbf54",
   "metadata": {},
   "source": [
    "En esta Notebook encontrarás un primer abordaje al uso de archivos para adquisición de datos.  Se presenta a la librería Pandas de Python, la cual ha sido de gran importancia para el desarrollo de IA en Python. Finalizaremos con una prueba de performance entre diferentes orígenes de datos."
   ]
  },
  {
   "cell_type": "markdown",
   "id": "b07ca88e",
   "metadata": {},
   "source": [
    "### 1. DataFrames Pandas"
   ]
  },
  {
   "cell_type": "markdown",
   "id": "a9c3d314",
   "metadata": {},
   "source": [
    "### 1.1. Importacion de Librerias"
   ]
  },
  {
   "cell_type": "code",
   "execution_count": 85,
   "id": "1d995b18",
   "metadata": {},
   "outputs": [],
   "source": [
    "import pandas as pd\n",
    "import datetime as datetime\n",
    "import pickle"
   ]
  },
  {
   "cell_type": "markdown",
   "id": "80d88987",
   "metadata": {},
   "source": [
    "### 1.2. Creación de Dataframes"
   ]
  },
  {
   "cell_type": "code",
   "execution_count": 86,
   "id": "5725a691",
   "metadata": {},
   "outputs": [
    {
     "name": "stdout",
     "output_type": "stream",
     "text": [
      "        country    capital    area  population\n",
      "0        Brazil   Brasilia   8.516      200.40\n",
      "1        Russia     Moscow  17.100      143.50\n",
      "2         India  New Dehli   3.286     1252.00\n",
      "3         China    Beijing   9.597     1357.00\n",
      "4  South Africa   Pretoria   1.221       52.98\n"
     ]
    }
   ],
   "source": [
    "# 1. Dataframe BRICS\n",
    "dict = {\"country\": [\"Brazil\", \"Russia\", \"India\", \"China\", \"South Africa\"],\n",
    "       \"capital\": [\"Brasilia\", \"Moscow\", \"New Dehli\", \"Beijing\", \"Pretoria\"],\n",
    "       \"area\": [8.516, 17.10, 3.286, 9.597, 1.221],\n",
    "       \"population\": [200.4, 143.5, 1252, 1357, 52.98] }\n",
    "brics = pd.DataFrame(dict)\n",
    "print(brics)"
   ]
  },
  {
   "cell_type": "code",
   "execution_count": 87,
   "id": "dadfe0ee",
   "metadata": {},
   "outputs": [
    {
     "name": "stdout",
     "output_type": "stream",
     "text": [
      "        Pais       Capital   Area  Poblacion\n",
      "0  Argentina  Buenos Aires  2.784       45.0\n",
      "1     Brasil      Brasilia  8.516      200.4\n",
      "2    Uruguay    Montevideo  0.176        3.5\n",
      "3   Paraguay      Asuncion  0.406        7.3\n"
     ]
    }
   ],
   "source": [
    "# 2. DataFrame MERCOSUR\n",
    "mercosur=pd.DataFrame()\n",
    "paises=['Argentina','Brasil','Uruguay','Paraguay']\n",
    "capitales=['Buenos Aires','Brasilia','Montevideo','Asuncion']\n",
    "areas=[2.784,8.516,0.176,0.406]\n",
    "poblaciones=[45,200.4,3.5,7.3]\n",
    "mercosur['Pais']=paises\n",
    "mercosur['Capital']=capitales\n",
    "mercosur['Area']=areas\n",
    "mercosur['Poblacion']=poblaciones\n",
    "print(mercosur)"
   ]
  },
  {
   "cell_type": "markdown",
   "id": "3bd21878",
   "metadata": {},
   "source": [
    "### 1.3. Funciones básicas para tratar DataFrames Pandas"
   ]
  },
  {
   "cell_type": "markdown",
   "id": "966816bf",
   "metadata": {},
   "source": [
    "#### Shape: Tamaño del dataFrame"
   ]
  },
  {
   "cell_type": "code",
   "execution_count": 63,
   "id": "f002c210",
   "metadata": {},
   "outputs": [
    {
     "name": "stdout",
     "output_type": "stream",
     "text": [
      "tamaño de Brics:  (5, 4)\n"
     ]
    }
   ],
   "source": [
    "print('tamaño de Brics: ',brics.shape)"
   ]
  },
  {
   "cell_type": "code",
   "execution_count": 64,
   "id": "f5c62148",
   "metadata": {},
   "outputs": [
    {
     "name": "stdout",
     "output_type": "stream",
     "text": [
      "tamaño de Mercosur:  (4, 4)\n"
     ]
    }
   ],
   "source": [
    "print('tamaño de Mercosur: ',mercosur.shape)"
   ]
  },
  {
   "cell_type": "markdown",
   "id": "9cf143a1",
   "metadata": {},
   "source": [
    "#### dtypes: Tipo de datos por variable"
   ]
  },
  {
   "cell_type": "code",
   "execution_count": 65,
   "id": "a83f43cb",
   "metadata": {},
   "outputs": [
    {
     "name": "stdout",
     "output_type": "stream",
     "text": [
      "country        object\n",
      "capital        object\n",
      "area          float64\n",
      "population    float64\n",
      "dtype: object\n"
     ]
    }
   ],
   "source": [
    "print(brics.dtypes)"
   ]
  },
  {
   "cell_type": "code",
   "execution_count": 66,
   "id": "31200817",
   "metadata": {},
   "outputs": [
    {
     "name": "stdout",
     "output_type": "stream",
     "text": [
      "Pais          object\n",
      "Capital       object\n",
      "Area         float64\n",
      "Poblacion    float64\n",
      "dtype: object\n"
     ]
    }
   ],
   "source": [
    "print(mercosur.dtypes)"
   ]
  },
  {
   "cell_type": "markdown",
   "id": "c134b783",
   "metadata": {},
   "source": [
    "#### Describe: Información estadistica de las variables numéricas"
   ]
  },
  {
   "cell_type": "code",
   "execution_count": 67,
   "id": "2ab1d129",
   "metadata": {},
   "outputs": [
    {
     "name": "stdout",
     "output_type": "stream",
     "text": [
      "            area   population\n",
      "count   5.000000     5.000000\n",
      "mean    7.944000   601.176000\n",
      "std     6.200557   645.261454\n",
      "min     1.221000    52.980000\n",
      "25%     3.286000   143.500000\n",
      "50%     8.516000   200.400000\n",
      "75%     9.597000  1252.000000\n",
      "max    17.100000  1357.000000\n"
     ]
    }
   ],
   "source": [
    "print(brics.describe())"
   ]
  },
  {
   "cell_type": "code",
   "execution_count": 68,
   "id": "61160371",
   "metadata": {},
   "outputs": [
    {
     "name": "stdout",
     "output_type": "stream",
     "text": [
      "           Area   Poblacion\n",
      "count  4.000000    4.000000\n",
      "mean   2.970500   64.050000\n",
      "std    3.880431   92.810003\n",
      "min    0.176000    3.500000\n",
      "25%    0.348500    6.350000\n",
      "50%    1.595000   26.150000\n",
      "75%    4.217000   83.850000\n",
      "max    8.516000  200.400000\n"
     ]
    }
   ],
   "source": [
    "print(mercosur.describe())"
   ]
  },
  {
   "cell_type": "markdown",
   "id": "f97416c5",
   "metadata": {},
   "source": [
    "#### Obtener variables en una lista"
   ]
  },
  {
   "cell_type": "code",
   "execution_count": 69,
   "id": "ca3a0054",
   "metadata": {},
   "outputs": [],
   "source": [
    "varsBrics=brics.columns.tolist()"
   ]
  },
  {
   "cell_type": "code",
   "execution_count": 70,
   "id": "567b98c7",
   "metadata": {},
   "outputs": [
    {
     "name": "stdout",
     "output_type": "stream",
     "text": [
      "varsBrics ['country', 'capital', 'area', 'population']\n"
     ]
    }
   ],
   "source": [
    "print('varsBrics',varsBrics)"
   ]
  },
  {
   "cell_type": "code",
   "execution_count": 71,
   "id": "7c3e1108",
   "metadata": {},
   "outputs": [],
   "source": [
    "varsMercosur=mercosur.columns.tolist()"
   ]
  },
  {
   "cell_type": "code",
   "execution_count": 72,
   "id": "669c333e",
   "metadata": {},
   "outputs": [
    {
     "name": "stdout",
     "output_type": "stream",
     "text": [
      "varsMercosur ['Pais', 'Capital', 'Area', 'Poblacion']\n"
     ]
    }
   ],
   "source": [
    "print('varsMercosur',varsMercosur)"
   ]
  },
  {
   "cell_type": "markdown",
   "id": "fcc3c75b",
   "metadata": {},
   "source": [
    "#### iLOC: obteniendo una porción del dataFrame"
   ]
  },
  {
   "cell_type": "code",
   "execution_count": 73,
   "id": "926f017e",
   "metadata": {},
   "outputs": [
    {
     "name": "stdout",
     "output_type": "stream",
     "text": [
      "Paises del BRICS:  ['Brazil', 'Russia', 'India', 'China', 'South Africa']\n",
      "Paises del MERCOSUR:  ['Argentina', 'Brasil', 'Uruguay', 'Paraguay']\n"
     ]
    }
   ],
   "source": [
    "# Obtener una lista de los paises\n",
    "print('Paises del BRICS: ',list(brics.iloc[:,0]))\n",
    "print('Paises del MERCOSUR: ',list(mercosur.iloc[:,0]))"
   ]
  },
  {
   "cell_type": "code",
   "execution_count": 74,
   "id": "e3b23dd4",
   "metadata": {},
   "outputs": [
    {
     "name": "stdout",
     "output_type": "stream",
     "text": [
      "Area y poblacion de los paises 1 y 2 de BRICS:       area  population\n",
      "1  17.100       143.5\n",
      "2   3.286      1252.0\n",
      "Area y poblacion de los paises 1 y 2 de MERCOSUR:      Area  Poblacion\n",
      "1  8.516      200.4\n",
      "2  0.176        3.5\n"
     ]
    }
   ],
   "source": [
    "# Area y poblacion de los paises 1 y 2\n",
    "print('Area y poblacion de los paises 1 y 2 de BRICS: ',brics.iloc[1:3,2:])\n",
    "print('Area y poblacion de los paises 1 y 2 de MERCOSUR: ',mercosur.iloc[1:3,2:])"
   ]
  },
  {
   "cell_type": "markdown",
   "id": "9d16a8d8",
   "metadata": {},
   "source": [
    "### 2. Archivos de Datos"
   ]
  },
  {
   "cell_type": "markdown",
   "id": "806253eb",
   "metadata": {},
   "source": [
    "### 2.1. Guardar DataFrame"
   ]
  },
  {
   "cell_type": "markdown",
   "id": "9b54019a",
   "metadata": {},
   "source": [
    "#### A formato CSV (archivo de texto)"
   ]
  },
  {
   "cell_type": "code",
   "execution_count": 75,
   "id": "67259b58",
   "metadata": {},
   "outputs": [],
   "source": [
    "brics.to_csv('datos_brics.csv',index=None)\n",
    "mercosur.to_csv('datos_mercosur.csv')"
   ]
  },
  {
   "cell_type": "markdown",
   "id": "4ca8cd97",
   "metadata": {},
   "source": [
    "#### A formato de Planilla Excel"
   ]
  },
  {
   "cell_type": "code",
   "execution_count": 76,
   "id": "2973f4df",
   "metadata": {},
   "outputs": [],
   "source": [
    "brics.to_excel('datos_brics.xlsx',index=None)\n",
    "mercosur.to_excel('datos_mercosur.xlsx')"
   ]
  },
  {
   "cell_type": "markdown",
   "id": "9cf0e858",
   "metadata": {},
   "source": [
    "#### A formato Pickle (archivo binario)"
   ]
  },
  {
   "cell_type": "code",
   "execution_count": 77,
   "id": "bb138d26",
   "metadata": {},
   "outputs": [],
   "source": [
    "brics.to_pickle('datos_brics.pkl')\n",
    "mercosur.to_pickle('datos_mercosur.pkl')"
   ]
  },
  {
   "cell_type": "markdown",
   "id": "f2b4725a",
   "metadata": {},
   "source": [
    "### 2.2. Recuperar DataFrame desde archivo"
   ]
  },
  {
   "cell_type": "markdown",
   "id": "bb7afd76",
   "metadata": {},
   "source": [
    "#### Desde archivo CSV (archivo de texto)"
   ]
  },
  {
   "cell_type": "code",
   "execution_count": 78,
   "id": "ddd22342",
   "metadata": {},
   "outputs": [
    {
     "name": "stdout",
     "output_type": "stream",
     "text": [
      "BRICS recuperado csv:\n",
      "        country    capital    area  population\n",
      "0        Brazil   Brasilia   8.516      200.40\n",
      "1        Russia     Moscow  17.100      143.50\n",
      "2         India  New Dehli   3.286     1252.00\n",
      "3         China    Beijing   9.597     1357.00\n",
      "4  South Africa   Pretoria   1.221       52.98\n",
      "MERCOSUR recuperado csv:\n",
      "   Unnamed: 0       Pais       Capital   Area  Poblacion\n",
      "0           0  Argentina  Buenos Aires  2.784       45.0\n",
      "1           1     Brasil      Brasilia  8.516      200.4\n",
      "2           2    Uruguay    Montevideo  0.176        3.5\n",
      "3           3   Paraguay      Asuncion  0.406        7.3\n"
     ]
    }
   ],
   "source": [
    "brics2csv=pd.read_csv('datos_brics.csv')\n",
    "print('BRICS recuperado csv:')\n",
    "print(brics2csv)\n",
    "mercosur2csv=pd.read_csv('datos_mercosur.csv')\n",
    "print('MERCOSUR recuperado csv:')\n",
    "print(mercosur2csv)"
   ]
  },
  {
   "cell_type": "markdown",
   "id": "2d6756c8",
   "metadata": {},
   "source": [
    "##### Eliminamos la columna \"unnamed\" causada por almacenar índice:"
   ]
  },
  {
   "cell_type": "code",
   "execution_count": 79,
   "id": "3c9906b0",
   "metadata": {},
   "outputs": [
    {
     "name": "stdout",
     "output_type": "stream",
     "text": [
      "MERCOSUR recuperado csv:\n",
      "        Pais       Capital   Area  Poblacion\n",
      "0  Argentina  Buenos Aires  2.784       45.0\n",
      "1     Brasil      Brasilia  8.516      200.4\n",
      "2    Uruguay    Montevideo  0.176        3.5\n",
      "3   Paraguay      Asuncion  0.406        7.3\n"
     ]
    }
   ],
   "source": [
    "mercosur2csv=pd.read_csv('datos_mercosur.csv', index_col=0)\n",
    "print('MERCOSUR recuperado csv:')\n",
    "print(mercosur2csv)"
   ]
  },
  {
   "cell_type": "markdown",
   "id": "b133e09d",
   "metadata": {},
   "source": [
    "#### Desde Planilla Excel"
   ]
  },
  {
   "cell_type": "code",
   "execution_count": 80,
   "id": "347ae62c",
   "metadata": {},
   "outputs": [
    {
     "name": "stdout",
     "output_type": "stream",
     "text": [
      "BRICS recuperado xlsx:\n",
      "        country    capital    area  population\n",
      "0        Brazil   Brasilia   8.516      200.40\n",
      "1        Russia     Moscow  17.100      143.50\n",
      "2         India  New Dehli   3.286     1252.00\n",
      "3         China    Beijing   9.597     1357.00\n",
      "4  South Africa   Pretoria   1.221       52.98\n",
      "MERCOSUR recuperado xlsx:\n",
      "        Pais       Capital   Area  Poblacion\n",
      "0  Argentina  Buenos Aires  2.784       45.0\n",
      "1     Brasil      Brasilia  8.516      200.4\n",
      "2    Uruguay    Montevideo  0.176        3.5\n",
      "3   Paraguay      Asuncion  0.406        7.3\n"
     ]
    }
   ],
   "source": [
    "brics2xlsx=pd.read_excel('datos_brics.xlsx')\n",
    "print('BRICS recuperado xlsx:')\n",
    "print(brics2xlsx)\n",
    "mercosur2xlsx=pd.read_excel('datos_mercosur.xlsx',index_col=0)\n",
    "print('MERCOSUR recuperado xlsx:')\n",
    "print(mercosur2xlsx)"
   ]
  },
  {
   "cell_type": "markdown",
   "id": "e39a2419",
   "metadata": {},
   "source": [
    "#### Desde archivo binario Pickle"
   ]
  },
  {
   "cell_type": "code",
   "execution_count": 81,
   "id": "0592aaa4",
   "metadata": {},
   "outputs": [
    {
     "name": "stdout",
     "output_type": "stream",
     "text": [
      "BRICS recuperado pkl:\n",
      "        country    capital    area  population\n",
      "0        Brazil   Brasilia   8.516      200.40\n",
      "1        Russia     Moscow  17.100      143.50\n",
      "2         India  New Dehli   3.286     1252.00\n",
      "3         China    Beijing   9.597     1357.00\n",
      "4  South Africa   Pretoria   1.221       52.98\n",
      "MERCOSUR recuperado pkl:\n",
      "        Pais       Capital   Area  Poblacion\n",
      "0  Argentina  Buenos Aires  2.784       45.0\n",
      "1     Brasil      Brasilia  8.516      200.4\n",
      "2    Uruguay    Montevideo  0.176        3.5\n",
      "3   Paraguay      Asuncion  0.406        7.3\n"
     ]
    }
   ],
   "source": [
    "brics2pkl=pd.read_pickle('datos_brics.pkl')\n",
    "print('BRICS recuperado pkl:')\n",
    "print(brics2pkl)\n",
    "mercosur2pkl=pd.read_pickle('datos_mercosur.pkl')\n",
    "print('MERCOSUR recuperado pkl:')\n",
    "print(mercosur2pkl)"
   ]
  },
  {
   "cell_type": "markdown",
   "id": "32f4ece7",
   "metadata": {},
   "source": [
    "### 2.3. Performance"
   ]
  },
  {
   "cell_type": "markdown",
   "id": "d5282454",
   "metadata": {},
   "source": [
    "Compararemos cuanto tarda python en levantar a memoria datasets almacenados en los distintos tipos de archivo."
   ]
  },
  {
   "cell_type": "code",
   "execution_count": 82,
   "id": "154adb01",
   "metadata": {},
   "outputs": [
    {
     "name": "stdout",
     "output_type": "stream",
     "text": [
      "Lectura de dataframe Pandas en formato texto plano CSV:  0:00:00.151860\n"
     ]
    }
   ],
   "source": [
    "hito0=datetime.datetime.now()\n",
    "df1=pd.read_csv('data.csv')\n",
    "hito1=datetime.datetime.now()\n",
    "print('Lectura de dataframe Pandas en formato texto plano CSV: ',hito1-hito0)"
   ]
  },
  {
   "cell_type": "code",
   "execution_count": 83,
   "id": "b5e1c932",
   "metadata": {},
   "outputs": [
    {
     "name": "stdout",
     "output_type": "stream",
     "text": [
      "Lectura de dataframe Pandas en formato planilla Excel:  0:00:17.970207\n"
     ]
    }
   ],
   "source": [
    "hito0=datetime.datetime.now()\n",
    "df2=pd.read_excel('data.xlsx')\n",
    "hito1=datetime.datetime.now()\n",
    "print('Lectura de dataframe Pandas en formato planilla Excel: ',hito1-hito0)"
   ]
  },
  {
   "cell_type": "code",
   "execution_count": 84,
   "id": "4da8595a",
   "metadata": {
    "scrolled": true
   },
   "outputs": [
    {
     "name": "stdout",
     "output_type": "stream",
     "text": [
      "Lectura de dataframe Pandas en formato binario:  0:00:00.028011\n"
     ]
    }
   ],
   "source": [
    "hito0=datetime.datetime.now()\n",
    "df3=pd.read_pickle('data.pkl')\n",
    "hito1=datetime.datetime.now()\n",
    "print('Lectura de dataframe Pandas en formato binario: ',hito1-hito0)"
   ]
  }
 ],
 "metadata": {
  "kernelspec": {
   "display_name": "Python 3 (ipykernel)",
   "language": "python",
   "name": "python3"
  },
  "language_info": {
   "codemirror_mode": {
    "name": "ipython",
    "version": 3
   },
   "file_extension": ".py",
   "mimetype": "text/x-python",
   "name": "python",
   "nbconvert_exporter": "python",
   "pygments_lexer": "ipython3",
   "version": "3.9.7"
  }
 },
 "nbformat": 4,
 "nbformat_minor": 5
}
