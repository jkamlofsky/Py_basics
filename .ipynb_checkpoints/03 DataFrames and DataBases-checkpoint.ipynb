{
 "cells": [
  {
   "cell_type": "markdown",
   "id": "e3da6b37",
   "metadata": {},
   "source": [
    "# Datasets, Panda's DataFrames and Databases"
   ]
  },
  {
   "cell_type": "markdown",
   "id": "01876e7e",
   "metadata": {},
   "source": [
    "## Abstract"
   ]
  },
  {
   "cell_type": "markdown",
   "id": "e8a1728b",
   "metadata": {},
   "source": [
    "Para la adquisición de datos, en general se dispone de archivos que contienen los datos almacenados. Sin embargo, el modo más común para persistir información es en bases de datos.\n",
    "En esta notebook se realizarán operaciones básicas con bases de datos. En particular se utiliza SQLite interactuando con DataFrames Pandas."
   ]
  },
  {
   "cell_type": "markdown",
   "id": "0e081dc0",
   "metadata": {},
   "source": [
    "## 1. Introduccion"
   ]
  },
  {
   "cell_type": "markdown",
   "id": "08b1d8cc",
   "metadata": {},
   "source": [
    "### Acerca de SQLite"
   ]
  },
  {
   "cell_type": "markdown",
   "id": "3d7979a5",
   "metadata": {},
   "source": [
    "\"<i>SQLite is a C-language library that implements a small, fast, self-contained, high-reliability, full-featured, SQL database engine. SQLite is the most used database engine in the world  with more than a trillon of databeses (1e12) in use.</i>\" (del Sitio oficial: https://www.sqlite.org/index.html).<br>\n",
    "SQLite permite crear una base de datos SQL en tiempo de ejecución con solo importar una librería y crear el archivo. Mediante sentencias SQL puede, insertar datos, consultarlos, modificar tablas, etc. Puede navegar las bases de datos con https://sqlitebrowser.org/. Y puede eliminar la DB símplemente eliminando el archivo.\n",
    "<br><br>\n",
    "Para descargar e instalar Sqlite Browser: https://sqlitebrowser.org/dl/ <br>\n",
    "<br>\n",
    "Para instalar el módulo SQLlite:<br>\n",
    "- conda install sqlite3 (instalar desde Anaconda)<br>\n",
    "- pip install sqlite3 (instalar desde Terminal - Linux / MacOS - o desde DOS / Powershell - Windows)<br>\n",
    "\n"
   ]
  },
  {
   "cell_type": "markdown",
   "id": "a9a990fa",
   "metadata": {},
   "source": [
    "### Librerias"
   ]
  },
  {
   "cell_type": "code",
   "execution_count": 3,
   "id": "fb7fe131",
   "metadata": {},
   "outputs": [],
   "source": [
    "import sqlite3\n",
    "import pandas as pd"
   ]
  },
  {
   "cell_type": "markdown",
   "id": "fec08141",
   "metadata": {},
   "source": [
    "En este ejemplo, cargaremos un dataset desde un archivo, crearemos una base de datos y almacenaremos el daframe en la base de datos."
   ]
  },
  {
   "cell_type": "markdown",
   "id": "4b17b6aa",
   "metadata": {},
   "source": [
    "## 2. DDL"
   ]
  },
  {
   "cell_type": "markdown",
   "id": "21cb5921",
   "metadata": {},
   "source": [
    "Dentro de SQL, un sublenguaje es DDL (Data Definition Languaje). Consiste en un conjunto de sentencias para la definición y modificación de la base de datos y sus tablas."
   ]
  },
  {
   "cell_type": "code",
   "execution_count": 13,
   "id": "b49f1b6a",
   "metadata": {},
   "outputs": [],
   "source": [
    "# Cargamos los datos desde un CSV\n",
    "df=pd.read_csv('datasets/train_strokes.csv')"
   ]
  },
  {
   "cell_type": "code",
   "execution_count": 14,
   "id": "ed0ed116",
   "metadata": {},
   "outputs": [],
   "source": [
    "# Crearemos una base de datos, el cursor y la conexión\n",
    "nombreDB='datasets/train_strokes.db'\n",
    "conexion = sqlite3.connect(nombreDB)\n",
    "cursor = conexion.cursor()"
   ]
  },
  {
   "cell_type": "markdown",
   "id": "8cfcb2e9",
   "metadata": {},
   "source": [
    "### Crear Tablas"
   ]
  },
  {
   "cell_type": "code",
   "execution_count": 26,
   "id": "84974d4b",
   "metadata": {},
   "outputs": [
    {
     "name": "stdout",
     "output_type": "stream",
     "text": [
      "se creo la tabla employees\n"
     ]
    }
   ],
   "source": [
    "# Esta tabla se crea para ser eliminada (y poder mostrarlo)\n",
    "sentencia=\"\"\"CREATE TABLE employees(\n",
    "            id integer PRIMARY KEY, \n",
    "            name text, \n",
    "            salary real, \n",
    "            department text, \n",
    "            position text, \n",
    "            startDate text\n",
    "            )\"\"\"\n",
    "try:\n",
    "    cursor.execute(sentencia)\n",
    "    print(\"se creo la tabla employees\")\n",
    "except sqlite3.OperationalError:\n",
    "    print(\"Tabla existente\")\n",
    "\n",
    "# Esta tabla se crea para persistir.\n",
    "sentence=\"\"\"CREATE TABLE strokes(\n",
    "            id integer PRIMARY KEY,\n",
    "            gender text,\n",
    "            age real,\n",
    "            hypertension real,\n",
    "            heart_disease real,\n",
    "            ever_married text,\n",
    "            work_type text,\n",
    "            Residence_type text,\n",
    "            avg_glucose_level real,\n",
    "            bmi real,\n",
    "            smoking_status text,\n",
    "            stroke real\n",
    "            )\"\"\"\n",
    "try:\n",
    "    cursor.execute(sentence)\n",
    "    print(\"se creo la tabla strokes\")\n",
    "except sqlite3.OperationalError:\n",
    "    print(\"Tabla existente\")"
   ]
  },
  {
   "cell_type": "code",
   "execution_count": null,
   "id": "7076f2c7",
   "metadata": {},
   "outputs": [],
   "source": [
    "# Eliminación de tabla creada\n",
    "sentencia=\"\"\"drop table employees\"\"\"\n",
    "try:\n",
    "    cursor.execute(sentencia)\n",
    "    print(\"se elimino la tabla employees\")\n",
    "except:\n",
    "    print(\"Error operacional\")"
   ]
  },
  {
   "cell_type": "code",
   "execution_count": 25,
   "id": "a8a403fd",
   "metadata": {},
   "outputs": [
    {
     "name": "stdout",
     "output_type": "stream",
     "text": [
      "se creo la tabla employees\n",
      "se elimino la tabla employees\n",
      "Tabla existente\n"
     ]
    }
   ],
   "source": [
    "# Esta tabla se crea para ser eliminada (y poder mostrarlo)\n",
    "sentencia=\"\"\"CREATE TABLE employees(\n",
    "            id integer PRIMARY KEY, \n",
    "            name text, \n",
    "            salary real, \n",
    "            department text, \n",
    "            position text, \n",
    "            startDate text\n",
    "            )\"\"\"\n",
    "try:\n",
    "    cursor.execute(sentencia)\n",
    "    print(\"se creo la tabla employees\")\n",
    "except sqlite3.OperationalError:\n",
    "    print(\"Tabla existente\")\n",
    "# 1.2. BORRAR TABLA\n",
    "sentencia=\"\"\"drop table employees\"\"\"\n",
    "try:\n",
    "    cursor.execute(sentencia)\n",
    "    print(\"se elimino la tabla employees\")\n",
    "except:\n",
    "    print(\"Error operacional\")\n",
    "sentence=\"\"\"CREATE TABLE strokes(\n",
    "            id integer PRIMARY KEY,\n",
    "            gender text,\n",
    "            age real,\n",
    "            hypertension real,\n",
    "            heart_disease real,\n",
    "            ever_married text,\n",
    "            work_type text,\n",
    "            Residence_type text,\n",
    "            avg_glucose_level real,\n",
    "            bmi real,\n",
    "            smoking_status text,\n",
    "            stroke real\n",
    "            )\"\"\"\n",
    "try:\n",
    "    cursor.execute(sentence)\n",
    "    print(\"se creo la tabla strokes\")\n",
    "except sqlite3.OperationalError:\n",
    "    print(\"Tabla existente\")\n"
   ]
  },
  {
   "cell_type": "code",
   "execution_count": 15,
   "id": "3372b525",
   "metadata": {},
   "outputs": [],
   "source": [
    "campos=df.columns.tolist()"
   ]
  },
  {
   "cell_type": "markdown",
   "id": "26e0a067",
   "metadata": {},
   "source": [
    "#### Confirmación: Navegamos con DB Browser"
   ]
  },
  {
   "cell_type": "markdown",
   "id": "f997342b",
   "metadata": {},
   "source": [
    "Abrimos la DB \"train_strokes.db\" y abrimos la tabla \"strokes\"\n",
    "<img src=\"files/browseDB_01.png\" alt=\"SQLite3 DB Browser\">"
   ]
  },
  {
   "cell_type": "markdown",
   "id": "14ed27ff",
   "metadata": {},
   "source": [
    "## 3. DML"
   ]
  },
  {
   "cell_type": "markdown",
   "id": "9d831903",
   "metadata": {},
   "source": [
    "DML es un sub-lenguaje de SQL. Es un conjunto de sentencias para la manipulación de los datos almacenados."
   ]
  },
  {
   "cell_type": "code",
   "execution_count": null,
   "id": "900a6a6b",
   "metadata": {},
   "outputs": [],
   "source": []
  }
 ],
 "metadata": {
  "kernelspec": {
   "display_name": "Python 3 (ipykernel)",
   "language": "python",
   "name": "python3"
  },
  "language_info": {
   "codemirror_mode": {
    "name": "ipython",
    "version": 3
   },
   "file_extension": ".py",
   "mimetype": "text/x-python",
   "name": "python",
   "nbconvert_exporter": "python",
   "pygments_lexer": "ipython3",
   "version": "3.9.7"
  }
 },
 "nbformat": 4,
 "nbformat_minor": 5
}
