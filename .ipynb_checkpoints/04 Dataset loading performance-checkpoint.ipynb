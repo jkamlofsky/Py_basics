{
 "cells": [
  {
   "cell_type": "markdown",
   "id": "fe647680",
   "metadata": {},
   "source": [
    "# Loading a Dataset from different file types"
   ]
  },
  {
   "cell_type": "markdown",
   "id": "9cbece8d",
   "metadata": {},
   "source": [
    "## Abstract"
   ]
  },
  {
   "cell_type": "markdown",
   "id": "3a7b8856",
   "metadata": {},
   "source": [
    "This notebook was created to show the difference of loading a dataset from different data file formats.<br>\n",
    "This dataset contains data about stroke to people with various vital checks. It was downloaded from Kaggle: https://www.kaggle.com/datasets/lirilkumaramal/heart-stroke/download. The dataset has 43,400 rows and 12 variables that, stored in a csv file, weigh 2.6Mb.<br>\n",
    "During this notebook you could experiment loading and writing times into different data saving formats: csv (text), xlsx (excel) and pkl (binary) and also, we load data from a SQLite Database."
   ]
  },
  {
   "cell_type": "markdown",
   "id": "1904160f",
   "metadata": {},
   "source": [
    "### Libraries"
   ]
  },
  {
   "cell_type": "code",
   "execution_count": 1,
   "id": "bbd2b9da",
   "metadata": {},
   "outputs": [],
   "source": [
    "import pandas as pd\n",
    "import datetime as datetime\n",
    "import pickle\n",
    "import sqlite3"
   ]
  },
  {
   "cell_type": "markdown",
   "id": "175cddf2",
   "metadata": {},
   "source": [
    "## 1. Loading from a CSV (text) file"
   ]
  },
  {
   "cell_type": "code",
   "execution_count": 2,
   "id": "bf0bf0c6",
   "metadata": {},
   "outputs": [
    {
     "name": "stdout",
     "output_type": "stream",
     "text": [
      "Loading time of a Pandas Dataframe from a text CSV file:  0:00:00.133967\n"
     ]
    }
   ],
   "source": [
    "# Loading time from a CSV file\n",
    "init0=datetime.datetime.now()\n",
    "df=pd.read_csv('datasets/train_strokes.csv')\n",
    "end0=datetime.datetime.now()\n",
    "delta0=end0-init0\n",
    "print('Loading time of a Pandas Dataframe from a text CSV file: ',delta0)\n"
   ]
  },
  {
   "cell_type": "markdown",
   "id": "38def24c",
   "metadata": {},
   "source": [
    "### Storing dataset into Excel and binary format"
   ]
  },
  {
   "cell_type": "code",
   "execution_count": 3,
   "id": "878ab9d4",
   "metadata": {},
   "outputs": [
    {
     "name": "stderr",
     "output_type": "stream",
     "text": [
      "/tmp/ipykernel_33445/1841976736.py:2: FutureWarning: As the xlwt package is no longer maintained, the xlwt engine will be removed in a future version of pandas. This is the only engine in pandas that supports writing in the xls format. Install openpyxl and write to an xlsx file instead. You can set the option io.excel.xls.writer to 'xlwt' to silence this warning. While this option is deprecated and will also raise a warning, it can be globally set and the warning suppressed.\n",
      "  df.to_excel('datasets/train_strokes.xls')\n"
     ]
    }
   ],
   "source": [
    "df.to_pickle('datasets/train_strokes.pkl')\n",
    "df.to_excel('datasets/train_strokes.xls')"
   ]
  },
  {
   "cell_type": "markdown",
   "id": "7c326e05",
   "metadata": {},
   "source": [
    "## 2. Loading dataset from a Database"
   ]
  },
  {
   "cell_type": "code",
   "execution_count": 12,
   "id": "ba45ac69",
   "metadata": {},
   "outputs": [
    {
     "name": "stdout",
     "output_type": "stream",
     "text": [
      "Loading time of a Pandas Dataframe from a DataBase:  0:00:00.460661\n"
     ]
    }
   ],
   "source": [
    "# Loading time from a DataBase\n",
    "init=datetime.datetime.now()\n",
    "# Crear el cursor y la conexión\n",
    "nombreDB='datasets/train_strokes.db'\n",
    "conexion = sqlite3.connect(nombreDB)\n",
    "cursor = conexion.cursor()\n",
    "# SELECT\n",
    "sentence=\"SELECT * FROM strokes\"\n",
    "df2 = pd.read_sql_query(sentence, conexion)\n",
    "end=datetime.datetime.now()\n",
    "delta=end-init\n",
    "print('Loading time of a Pandas Dataframe from a DataBase: ',delta)"
   ]
  },
  {
   "cell_type": "markdown",
   "id": "665f9112",
   "metadata": {},
   "source": [
    "## 3. Loading dataset from binary file"
   ]
  },
  {
   "cell_type": "code",
   "execution_count": 13,
   "id": "27911d82",
   "metadata": {},
   "outputs": [
    {
     "name": "stdout",
     "output_type": "stream",
     "text": [
      "Loading time of a Pandas Dataframe from a binary PKL file:  0:00:00.018615\n"
     ]
    }
   ],
   "source": [
    "# Loading time from a PKL file\n",
    "init1=datetime.datetime.now()\n",
    "df=pd.read_pickle('datasets/train_strokes.pkl')\n",
    "end1=datetime.datetime.now()\n",
    "delta1=end1-init1\n",
    "print('Loading time of a Pandas Dataframe from a binary PKL file: ',delta1)"
   ]
  },
  {
   "cell_type": "markdown",
   "id": "ab71a71d",
   "metadata": {},
   "source": [
    "## 4. Loading dataset from an Excel file"
   ]
  },
  {
   "cell_type": "code",
   "execution_count": 14,
   "id": "9e06ade8",
   "metadata": {},
   "outputs": [
    {
     "name": "stdout",
     "output_type": "stream",
     "text": [
      "Loading time of a Pandas Dataframe from an Excel XLS file:  0:00:05.239574\n"
     ]
    }
   ],
   "source": [
    "# Loading time from a XLS file\n",
    "init2=datetime.datetime.now()\n",
    "df=pd.read_excel('datasets/train_strokes.xls')\n",
    "end2=datetime.datetime.now()\n",
    "delta2=end2-init2\n",
    "print('Loading time of a Pandas Dataframe from an Excel XLS file: ',delta2)"
   ]
  },
  {
   "cell_type": "markdown",
   "id": "096cef14",
   "metadata": {},
   "source": [
    "## 5. Results Obtained"
   ]
  },
  {
   "cell_type": "code",
   "execution_count": 15,
   "id": "0c40050d",
   "metadata": {},
   "outputs": [
    {
     "name": "stdout",
     "output_type": "stream",
     "text": [
      "Binary PKL File:  0:00:00.018615\n",
      "From a Database:  0:00:00.460661\n",
      "Text CSV File:    0:00:00.133967\n",
      "Excel XLS File:   0:00:05.239574\n"
     ]
    }
   ],
   "source": [
    "print('Binary PKL File: ',delta1)\n",
    "print('From a Database: ',delta)\n",
    "print('Text CSV File:   ',delta0)\n",
    "print('Excel XLS File:  ',delta2)"
   ]
  },
  {
   "cell_type": "markdown",
   "id": "b15ab856",
   "metadata": {},
   "source": [
    "## 6. Conclusions"
   ]
  },
  {
   "cell_type": "markdown",
   "id": "4857f933",
   "metadata": {},
   "source": [
    "The fastest way to load a dataset is from a binary format file (PKL). The disadvantage is that such file can't be browsed or edited. To load a dataset from a text file as CSV takes near than 6 times more time than from a binary file, but these files are very flexible. The slowest way to load a dataset is finally to load it from an Excel file (XLS). It takes more than 200 times compared with binary files and near than 30 times compared with text files. It is interesting too that the load of data from pkl and from csv files is faster than to load from a Database."
   ]
  },
  {
   "cell_type": "code",
   "execution_count": null,
   "id": "8c2873be",
   "metadata": {},
   "outputs": [],
   "source": []
  }
 ],
 "metadata": {
  "kernelspec": {
   "display_name": "Python 3 (ipykernel)",
   "language": "python",
   "name": "python3"
  },
  "language_info": {
   "codemirror_mode": {
    "name": "ipython",
    "version": 3
   },
   "file_extension": ".py",
   "mimetype": "text/x-python",
   "name": "python",
   "nbconvert_exporter": "python",
   "pygments_lexer": "ipython3",
   "version": "3.9.7"
  }
 },
 "nbformat": 4,
 "nbformat_minor": 5
}
